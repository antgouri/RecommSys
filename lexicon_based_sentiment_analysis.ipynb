{
 "cells": [
  {
   "cell_type": "markdown",
   "metadata": {},
   "source": [
    "# Rule based Sentiment Analysis\n",
    "using TextBlob, VADER, SentiWordNet"
   ]
  },
  {
   "cell_type": "markdown",
   "metadata": {},
   "source": [
    "### Data preprocessing steps\n",
    "1. Cleaning the text\n",
    "2. Tokenization\n",
    "3. Enrichment - POS tagging\n",
    "4. Stopwords removal\n",
    "5. Obtaining the stem words"
   ]
  },
  {
   "cell_type": "markdown",
   "metadata": {},
   "source": [
    "Importing dataset"
   ]
  },
  {
   "cell_type": "code",
   "execution_count": 2,
   "metadata": {},
   "outputs": [
    {
     "data": {
      "text/html": [
       "<div>\n",
       "<style scoped>\n",
       "    .dataframe tbody tr th:only-of-type {\n",
       "        vertical-align: middle;\n",
       "    }\n",
       "\n",
       "    .dataframe tbody tr th {\n",
       "        vertical-align: top;\n",
       "    }\n",
       "\n",
       "    .dataframe thead th {\n",
       "        text-align: right;\n",
       "    }\n",
       "</style>\n",
       "<table border=\"1\" class=\"dataframe\">\n",
       "  <thead>\n",
       "    <tr style=\"text-align: right;\">\n",
       "      <th></th>\n",
       "      <th>reviewerID</th>\n",
       "      <th>asin</th>\n",
       "      <th>reviewerName</th>\n",
       "      <th>helpful</th>\n",
       "      <th>reviewText</th>\n",
       "      <th>overall</th>\n",
       "      <th>summary</th>\n",
       "      <th>unixReviewTime</th>\n",
       "      <th>reviewTime</th>\n",
       "    </tr>\n",
       "  </thead>\n",
       "  <tbody>\n",
       "    <tr>\n",
       "      <th>0</th>\n",
       "      <td>A10000012B7CGYKOMPQ4L</td>\n",
       "      <td>000100039X</td>\n",
       "      <td>Adam</td>\n",
       "      <td>[0, 0]</td>\n",
       "      <td>Spiritually and mentally inspiring! A book tha...</td>\n",
       "      <td>5</td>\n",
       "      <td>Wonderful!</td>\n",
       "      <td>1355616000</td>\n",
       "      <td>12 16, 2012</td>\n",
       "    </tr>\n",
       "    <tr>\n",
       "      <th>1</th>\n",
       "      <td>A2S166WSCFIFP5</td>\n",
       "      <td>000100039X</td>\n",
       "      <td>adead_poet@hotmail.com \"adead_poet@hotmail.com\"</td>\n",
       "      <td>[0, 2]</td>\n",
       "      <td>This is one my must have books. It is a master...</td>\n",
       "      <td>5</td>\n",
       "      <td>close to god</td>\n",
       "      <td>1071100800</td>\n",
       "      <td>12 11, 2003</td>\n",
       "    </tr>\n",
       "    <tr>\n",
       "      <th>2</th>\n",
       "      <td>A1BM81XB4QHOA3</td>\n",
       "      <td>000100039X</td>\n",
       "      <td>Ahoro Blethends \"Seriously\"</td>\n",
       "      <td>[0, 0]</td>\n",
       "      <td>This book provides a reflection that you can a...</td>\n",
       "      <td>5</td>\n",
       "      <td>Must Read for Life Afficianados</td>\n",
       "      <td>1390003200</td>\n",
       "      <td>01 18, 2014</td>\n",
       "    </tr>\n",
       "    <tr>\n",
       "      <th>3</th>\n",
       "      <td>A1MOSTXNIO5MPJ</td>\n",
       "      <td>000100039X</td>\n",
       "      <td>Alan Krug</td>\n",
       "      <td>[0, 0]</td>\n",
       "      <td>I first read THE PROPHET in college back in th...</td>\n",
       "      <td>5</td>\n",
       "      <td>Timeless for every good and bad time in your l...</td>\n",
       "      <td>1317081600</td>\n",
       "      <td>09 27, 2011</td>\n",
       "    </tr>\n",
       "    <tr>\n",
       "      <th>4</th>\n",
       "      <td>A2XQ5LZHTD4AFT</td>\n",
       "      <td>000100039X</td>\n",
       "      <td>Alaturka</td>\n",
       "      <td>[7, 9]</td>\n",
       "      <td>A timeless classic.  It is a very demanding an...</td>\n",
       "      <td>5</td>\n",
       "      <td>A Modern Rumi</td>\n",
       "      <td>1033948800</td>\n",
       "      <td>10 7, 2002</td>\n",
       "    </tr>\n",
       "  </tbody>\n",
       "</table>\n",
       "</div>"
      ],
      "text/plain": [
       "              reviewerID        asin  \\\n",
       "0  A10000012B7CGYKOMPQ4L  000100039X   \n",
       "1         A2S166WSCFIFP5  000100039X   \n",
       "2         A1BM81XB4QHOA3  000100039X   \n",
       "3         A1MOSTXNIO5MPJ  000100039X   \n",
       "4         A2XQ5LZHTD4AFT  000100039X   \n",
       "\n",
       "                                      reviewerName helpful  \\\n",
       "0                                             Adam  [0, 0]   \n",
       "1  adead_poet@hotmail.com \"adead_poet@hotmail.com\"  [0, 2]   \n",
       "2                      Ahoro Blethends \"Seriously\"  [0, 0]   \n",
       "3                                        Alan Krug  [0, 0]   \n",
       "4                                         Alaturka  [7, 9]   \n",
       "\n",
       "                                          reviewText  overall  \\\n",
       "0  Spiritually and mentally inspiring! A book tha...        5   \n",
       "1  This is one my must have books. It is a master...        5   \n",
       "2  This book provides a reflection that you can a...        5   \n",
       "3  I first read THE PROPHET in college back in th...        5   \n",
       "4  A timeless classic.  It is a very demanding an...        5   \n",
       "\n",
       "                                             summary  unixReviewTime  \\\n",
       "0                                         Wonderful!      1355616000   \n",
       "1                                       close to god      1071100800   \n",
       "2                    Must Read for Life Afficianados      1390003200   \n",
       "3  Timeless for every good and bad time in your l...      1317081600   \n",
       "4                                      A Modern Rumi      1033948800   \n",
       "\n",
       "    reviewTime  \n",
       "0  12 16, 2012  \n",
       "1  12 11, 2003  \n",
       "2  01 18, 2014  \n",
       "3  09 27, 2011  \n",
       "4   10 7, 2002  "
      ]
     },
     "execution_count": 2,
     "metadata": {},
     "output_type": "execute_result"
    }
   ],
   "source": [
    "import pandas as pd\n",
    "\n",
    "# Creating a pandas dataframe from reviews.txt file\n",
    "data = pd.read_json('part1.json', lines=True)\n",
    "data.head()"
   ]
  },
  {
   "cell_type": "markdown",
   "metadata": {},
   "source": [
    "Dropping unwanted columns"
   ]
  },
  {
   "cell_type": "code",
   "execution_count": 3,
   "metadata": {},
   "outputs": [
    {
     "data": {
      "text/html": [
       "<div>\n",
       "<style scoped>\n",
       "    .dataframe tbody tr th:only-of-type {\n",
       "        vertical-align: middle;\n",
       "    }\n",
       "\n",
       "    .dataframe tbody tr th {\n",
       "        vertical-align: top;\n",
       "    }\n",
       "\n",
       "    .dataframe thead th {\n",
       "        text-align: right;\n",
       "    }\n",
       "</style>\n",
       "<table border=\"1\" class=\"dataframe\">\n",
       "  <thead>\n",
       "    <tr style=\"text-align: right;\">\n",
       "      <th></th>\n",
       "      <th>reviewText</th>\n",
       "    </tr>\n",
       "  </thead>\n",
       "  <tbody>\n",
       "    <tr>\n",
       "      <th>0</th>\n",
       "      <td>Spiritually and mentally inspiring! A book tha...</td>\n",
       "    </tr>\n",
       "    <tr>\n",
       "      <th>1</th>\n",
       "      <td>This is one my must have books. It is a master...</td>\n",
       "    </tr>\n",
       "    <tr>\n",
       "      <th>2</th>\n",
       "      <td>This book provides a reflection that you can a...</td>\n",
       "    </tr>\n",
       "    <tr>\n",
       "      <th>3</th>\n",
       "      <td>I first read THE PROPHET in college back in th...</td>\n",
       "    </tr>\n",
       "    <tr>\n",
       "      <th>4</th>\n",
       "      <td>A timeless classic.  It is a very demanding an...</td>\n",
       "    </tr>\n",
       "  </tbody>\n",
       "</table>\n",
       "</div>"
      ],
      "text/plain": [
       "                                          reviewText\n",
       "0  Spiritually and mentally inspiring! A book tha...\n",
       "1  This is one my must have books. It is a master...\n",
       "2  This book provides a reflection that you can a...\n",
       "3  I first read THE PROPHET in college back in th...\n",
       "4  A timeless classic.  It is a very demanding an..."
      ]
     },
     "execution_count": 3,
     "metadata": {},
     "output_type": "execute_result"
    }
   ],
   "source": [
    "# Dropping Unnamed: 0 column\n",
    "mydata = pd.DataFrame(data.reviewText)\n",
    "mydata.head()\n",
    "\n",
    "# mydata = pd.DataFrame(data.review)"
   ]
  },
  {
   "cell_type": "markdown",
   "metadata": {},
   "source": [
    "### Step 1: Cleaning the text"
   ]
  },
  {
   "cell_type": "code",
   "execution_count": 5,
   "metadata": {},
   "outputs": [
    {
     "data": {
      "text/html": [
       "<div>\n",
       "<style scoped>\n",
       "    .dataframe tbody tr th:only-of-type {\n",
       "        vertical-align: middle;\n",
       "    }\n",
       "\n",
       "    .dataframe tbody tr th {\n",
       "        vertical-align: top;\n",
       "    }\n",
       "\n",
       "    .dataframe thead th {\n",
       "        text-align: right;\n",
       "    }\n",
       "</style>\n",
       "<table border=\"1\" class=\"dataframe\">\n",
       "  <thead>\n",
       "    <tr style=\"text-align: right;\">\n",
       "      <th></th>\n",
       "      <th>reviewText</th>\n",
       "      <th>Cleaned Reviews</th>\n",
       "    </tr>\n",
       "  </thead>\n",
       "  <tbody>\n",
       "    <tr>\n",
       "      <th>0</th>\n",
       "      <td>Spiritually and mentally inspiring! A book tha...</td>\n",
       "      <td>Spiritually and mentally inspiring A book that...</td>\n",
       "    </tr>\n",
       "    <tr>\n",
       "      <th>1</th>\n",
       "      <td>This is one my must have books. It is a master...</td>\n",
       "      <td>This is one my must have books It is a masterp...</td>\n",
       "    </tr>\n",
       "    <tr>\n",
       "      <th>2</th>\n",
       "      <td>This book provides a reflection that you can a...</td>\n",
       "      <td>This book provides a reflection that you can a...</td>\n",
       "    </tr>\n",
       "    <tr>\n",
       "      <th>3</th>\n",
       "      <td>I first read THE PROPHET in college back in th...</td>\n",
       "      <td>I first read THE PROPHET in college back in th...</td>\n",
       "    </tr>\n",
       "    <tr>\n",
       "      <th>4</th>\n",
       "      <td>A timeless classic.  It is a very demanding an...</td>\n",
       "      <td>A timeless classic It is a very demanding and ...</td>\n",
       "    </tr>\n",
       "  </tbody>\n",
       "</table>\n",
       "</div>"
      ],
      "text/plain": [
       "                                          reviewText  \\\n",
       "0  Spiritually and mentally inspiring! A book tha...   \n",
       "1  This is one my must have books. It is a master...   \n",
       "2  This book provides a reflection that you can a...   \n",
       "3  I first read THE PROPHET in college back in th...   \n",
       "4  A timeless classic.  It is a very demanding an...   \n",
       "\n",
       "                                     Cleaned Reviews  \n",
       "0  Spiritually and mentally inspiring A book that...  \n",
       "1  This is one my must have books It is a masterp...  \n",
       "2  This book provides a reflection that you can a...  \n",
       "3  I first read THE PROPHET in college back in th...  \n",
       "4  A timeless classic It is a very demanding and ...  "
      ]
     },
     "execution_count": 5,
     "metadata": {},
     "output_type": "execute_result"
    }
   ],
   "source": [
    "import re\n",
    "\n",
    "# Define a function to clean the text\n",
    "def clean(text):\n",
    "    # Removes all special characters and numericals leaving the alphabets\n",
    "    text = re.sub('[^A-Za-z]+', ' ', text) \n",
    "    return text\n",
    "\n",
    "# Cleaning the text in the review column\n",
    "mydata['Cleaned Reviews'] = mydata['reviewText'].apply(clean)\n",
    "mydata.head()"
   ]
  },
  {
   "cell_type": "markdown",
   "metadata": {},
   "source": [
    "### Steps 2-4: Tokenization, POS tagging, stopwords removal"
   ]
  },
  {
   "cell_type": "code",
   "execution_count": 6,
   "metadata": {},
   "outputs": [
    {
     "name": "stderr",
     "output_type": "stream",
     "text": [
      "[nltk_data] Downloading package punkt to /home/ananth/nltk_data...\n",
      "[nltk_data]   Package punkt is already up-to-date!\n",
      "[nltk_data] Downloading package stopwords to /home/ananth/nltk_data...\n",
      "[nltk_data]   Package stopwords is already up-to-date!\n",
      "[nltk_data] Downloading package wordnet to /home/ananth/nltk_data...\n",
      "[nltk_data]   Package wordnet is already up-to-date!\n"
     ]
    },
    {
     "data": {
      "text/html": [
       "<div>\n",
       "<style scoped>\n",
       "    .dataframe tbody tr th:only-of-type {\n",
       "        vertical-align: middle;\n",
       "    }\n",
       "\n",
       "    .dataframe tbody tr th {\n",
       "        vertical-align: top;\n",
       "    }\n",
       "\n",
       "    .dataframe thead th {\n",
       "        text-align: right;\n",
       "    }\n",
       "</style>\n",
       "<table border=\"1\" class=\"dataframe\">\n",
       "  <thead>\n",
       "    <tr style=\"text-align: right;\">\n",
       "      <th></th>\n",
       "      <th>reviewText</th>\n",
       "      <th>Cleaned Reviews</th>\n",
       "      <th>POS tagged</th>\n",
       "    </tr>\n",
       "  </thead>\n",
       "  <tbody>\n",
       "    <tr>\n",
       "      <th>0</th>\n",
       "      <td>Spiritually and mentally inspiring! A book tha...</td>\n",
       "      <td>Spiritually and mentally inspiring A book that...</td>\n",
       "      <td>[(Spiritually, r), (mentally, r), (inspiring, ...</td>\n",
       "    </tr>\n",
       "    <tr>\n",
       "      <th>1</th>\n",
       "      <td>This is one my must have books. It is a master...</td>\n",
       "      <td>This is one my must have books It is a masterp...</td>\n",
       "      <td>[(one, None), (must, None), (books, n), (maste...</td>\n",
       "    </tr>\n",
       "    <tr>\n",
       "      <th>2</th>\n",
       "      <td>This book provides a reflection that you can a...</td>\n",
       "      <td>This book provides a reflection that you can a...</td>\n",
       "      <td>[(book, n), (provides, v), (reflection, n), (a...</td>\n",
       "    </tr>\n",
       "    <tr>\n",
       "      <th>3</th>\n",
       "      <td>I first read THE PROPHET in college back in th...</td>\n",
       "      <td>I first read THE PROPHET in college back in th...</td>\n",
       "      <td>[(first, r), (read, v), (PROPHET, n), (college...</td>\n",
       "    </tr>\n",
       "    <tr>\n",
       "      <th>4</th>\n",
       "      <td>A timeless classic.  It is a very demanding an...</td>\n",
       "      <td>A timeless classic It is a very demanding and ...</td>\n",
       "      <td>[(timeless, n), (classic, a), (demanding, n), ...</td>\n",
       "    </tr>\n",
       "  </tbody>\n",
       "</table>\n",
       "</div>"
      ],
      "text/plain": [
       "                                          reviewText  \\\n",
       "0  Spiritually and mentally inspiring! A book tha...   \n",
       "1  This is one my must have books. It is a master...   \n",
       "2  This book provides a reflection that you can a...   \n",
       "3  I first read THE PROPHET in college back in th...   \n",
       "4  A timeless classic.  It is a very demanding an...   \n",
       "\n",
       "                                     Cleaned Reviews  \\\n",
       "0  Spiritually and mentally inspiring A book that...   \n",
       "1  This is one my must have books It is a masterp...   \n",
       "2  This book provides a reflection that you can a...   \n",
       "3  I first read THE PROPHET in college back in th...   \n",
       "4  A timeless classic It is a very demanding and ...   \n",
       "\n",
       "                                          POS tagged  \n",
       "0  [(Spiritually, r), (mentally, r), (inspiring, ...  \n",
       "1  [(one, None), (must, None), (books, n), (maste...  \n",
       "2  [(book, n), (provides, v), (reflection, n), (a...  \n",
       "3  [(first, r), (read, v), (PROPHET, n), (college...  \n",
       "4  [(timeless, n), (classic, a), (demanding, n), ...  "
      ]
     },
     "execution_count": 6,
     "metadata": {},
     "output_type": "execute_result"
    }
   ],
   "source": [
    "import nltk\n",
    "nltk.download('punkt')\n",
    "from nltk.tokenize import word_tokenize\n",
    "from nltk import pos_tag\n",
    "nltk.download('stopwords')\n",
    "from nltk.corpus import stopwords\n",
    "nltk.download('wordnet')\n",
    "from nltk.corpus import wordnet\n",
    "\n",
    "# POS tagger dictionary\n",
    "pos_dict = {'J':wordnet.ADJ, 'V':wordnet.VERB, 'N':wordnet.NOUN, 'R':wordnet.ADV}\n",
    "\n",
    "def token_stop_pos(text):\n",
    "    tags = pos_tag(word_tokenize(text))\n",
    "    newlist = []\n",
    "    for word, tag in tags:\n",
    "        if word.lower() not in set(stopwords.words('english')):\n",
    "            newlist.append(tuple([word, pos_dict.get(tag[0])]))\n",
    "    return newlist\n",
    "\n",
    "mydata['POS tagged'] = mydata['Cleaned Reviews'].apply(token_stop_pos)\n",
    "mydata.head()\n",
    "# mydata['POS tagged'][0]"
   ]
  },
  {
   "cell_type": "markdown",
   "metadata": {},
   "source": [
    "### Step 5: Obtaining the stem words\n",
    "\n",
    "#### Lemmatization"
   ]
  },
  {
   "cell_type": "code",
   "execution_count": 7,
   "metadata": {
    "scrolled": true
   },
   "outputs": [
    {
     "data": {
      "text/html": [
       "<div>\n",
       "<style scoped>\n",
       "    .dataframe tbody tr th:only-of-type {\n",
       "        vertical-align: middle;\n",
       "    }\n",
       "\n",
       "    .dataframe tbody tr th {\n",
       "        vertical-align: top;\n",
       "    }\n",
       "\n",
       "    .dataframe thead th {\n",
       "        text-align: right;\n",
       "    }\n",
       "</style>\n",
       "<table border=\"1\" class=\"dataframe\">\n",
       "  <thead>\n",
       "    <tr style=\"text-align: right;\">\n",
       "      <th></th>\n",
       "      <th>reviewText</th>\n",
       "      <th>Cleaned Reviews</th>\n",
       "      <th>POS tagged</th>\n",
       "      <th>Lemma</th>\n",
       "    </tr>\n",
       "  </thead>\n",
       "  <tbody>\n",
       "    <tr>\n",
       "      <th>0</th>\n",
       "      <td>Spiritually and mentally inspiring! A book tha...</td>\n",
       "      <td>Spiritually and mentally inspiring A book that...</td>\n",
       "      <td>[(Spiritually, r), (mentally, r), (inspiring, ...</td>\n",
       "      <td>Spiritually mentally inspire book allow ques...</td>\n",
       "    </tr>\n",
       "    <tr>\n",
       "      <th>1</th>\n",
       "      <td>This is one my must have books. It is a master...</td>\n",
       "      <td>This is one my must have books It is a masterp...</td>\n",
       "      <td>[(one, None), (must, None), (books, n), (maste...</td>\n",
       "      <td>one must book masterpiece spirituality first...</td>\n",
       "    </tr>\n",
       "    <tr>\n",
       "      <th>2</th>\n",
       "      <td>This book provides a reflection that you can a...</td>\n",
       "      <td>This book provides a reflection that you can a...</td>\n",
       "      <td>[(book, n), (provides, v), (reflection, n), (a...</td>\n",
       "      <td>book provide reflection apply life way try a...</td>\n",
       "    </tr>\n",
       "    <tr>\n",
       "      <th>3</th>\n",
       "      <td>I first read THE PROPHET in college back in th...</td>\n",
       "      <td>I first read THE PROPHET in college back in th...</td>\n",
       "      <td>[(first, r), (read, v), (PROPHET, n), (college...</td>\n",
       "      <td>first read PROPHET college back book revival...</td>\n",
       "    </tr>\n",
       "    <tr>\n",
       "      <th>4</th>\n",
       "      <td>A timeless classic.  It is a very demanding an...</td>\n",
       "      <td>A timeless classic It is a very demanding and ...</td>\n",
       "      <td>[(timeless, n), (classic, a), (demanding, n), ...</td>\n",
       "      <td>timeless classic demanding assume title Gibr...</td>\n",
       "    </tr>\n",
       "  </tbody>\n",
       "</table>\n",
       "</div>"
      ],
      "text/plain": [
       "                                          reviewText  \\\n",
       "0  Spiritually and mentally inspiring! A book tha...   \n",
       "1  This is one my must have books. It is a master...   \n",
       "2  This book provides a reflection that you can a...   \n",
       "3  I first read THE PROPHET in college back in th...   \n",
       "4  A timeless classic.  It is a very demanding an...   \n",
       "\n",
       "                                     Cleaned Reviews  \\\n",
       "0  Spiritually and mentally inspiring A book that...   \n",
       "1  This is one my must have books It is a masterp...   \n",
       "2  This book provides a reflection that you can a...   \n",
       "3  I first read THE PROPHET in college back in th...   \n",
       "4  A timeless classic It is a very demanding and ...   \n",
       "\n",
       "                                          POS tagged  \\\n",
       "0  [(Spiritually, r), (mentally, r), (inspiring, ...   \n",
       "1  [(one, None), (must, None), (books, n), (maste...   \n",
       "2  [(book, n), (provides, v), (reflection, n), (a...   \n",
       "3  [(first, r), (read, v), (PROPHET, n), (college...   \n",
       "4  [(timeless, n), (classic, a), (demanding, n), ...   \n",
       "\n",
       "                                               Lemma  \n",
       "0    Spiritually mentally inspire book allow ques...  \n",
       "1    one must book masterpiece spirituality first...  \n",
       "2    book provide reflection apply life way try a...  \n",
       "3    first read PROPHET college back book revival...  \n",
       "4    timeless classic demanding assume title Gibr...  "
      ]
     },
     "execution_count": 7,
     "metadata": {},
     "output_type": "execute_result"
    }
   ],
   "source": [
    "from nltk.stem import WordNetLemmatizer\n",
    "wordnet_lemmatizer = WordNetLemmatizer()\n",
    "\n",
    "def lemmatize(pos_data):\n",
    "    lemma_rew = \" \"\n",
    "    for word, pos in pos_data:\n",
    "        if not pos: \n",
    "            lemma = word\n",
    "            lemma_rew = lemma_rew + \" \" + lemma\n",
    "        else:  \n",
    "            lemma = wordnet_lemmatizer.lemmatize(word, pos=pos)\n",
    "            lemma_rew = lemma_rew + \" \" + lemma\n",
    "    return lemma_rew\n",
    "    \n",
    "mydata['Lemma'] = mydata['POS tagged'].apply(lemmatize)\n",
    "mydata.head()\n",
    "# print(mydata['review'][239] + \"\\n\" + mydata['Lemma'][239])"
   ]
  },
  {
   "cell_type": "code",
   "execution_count": 9,
   "metadata": {},
   "outputs": [
    {
     "data": {
      "text/html": [
       "<div>\n",
       "<style scoped>\n",
       "    .dataframe tbody tr th:only-of-type {\n",
       "        vertical-align: middle;\n",
       "    }\n",
       "\n",
       "    .dataframe tbody tr th {\n",
       "        vertical-align: top;\n",
       "    }\n",
       "\n",
       "    .dataframe thead th {\n",
       "        text-align: right;\n",
       "    }\n",
       "</style>\n",
       "<table border=\"1\" class=\"dataframe\">\n",
       "  <thead>\n",
       "    <tr style=\"text-align: right;\">\n",
       "      <th></th>\n",
       "      <th>reviewText</th>\n",
       "      <th>Lemma</th>\n",
       "    </tr>\n",
       "  </thead>\n",
       "  <tbody>\n",
       "    <tr>\n",
       "      <th>0</th>\n",
       "      <td>Spiritually and mentally inspiring! A book tha...</td>\n",
       "      <td>Spiritually mentally inspire book allow ques...</td>\n",
       "    </tr>\n",
       "    <tr>\n",
       "      <th>1</th>\n",
       "      <td>This is one my must have books. It is a master...</td>\n",
       "      <td>one must book masterpiece spirituality first...</td>\n",
       "    </tr>\n",
       "    <tr>\n",
       "      <th>2</th>\n",
       "      <td>This book provides a reflection that you can a...</td>\n",
       "      <td>book provide reflection apply life way try a...</td>\n",
       "    </tr>\n",
       "    <tr>\n",
       "      <th>3</th>\n",
       "      <td>I first read THE PROPHET in college back in th...</td>\n",
       "      <td>first read PROPHET college back book revival...</td>\n",
       "    </tr>\n",
       "    <tr>\n",
       "      <th>4</th>\n",
       "      <td>A timeless classic.  It is a very demanding an...</td>\n",
       "      <td>timeless classic demanding assume title Gibr...</td>\n",
       "    </tr>\n",
       "    <tr>\n",
       "      <th>...</th>\n",
       "      <td>...</td>\n",
       "      <td>...</td>\n",
       "    </tr>\n",
       "    <tr>\n",
       "      <th>51995</th>\n",
       "      <td>Kolko does an excellent job of making the case...</td>\n",
       "      <td>Kolko excellent job make case business regul...</td>\n",
       "    </tr>\n",
       "    <tr>\n",
       "      <th>51996</th>\n",
       "      <td>As an Alabama native and a Tuskegee res I like...</td>\n",
       "      <td>Alabama native Tuskegee res like book still ...</td>\n",
       "    </tr>\n",
       "    <tr>\n",
       "      <th>51997</th>\n",
       "      <td>I was into this book the first couple of pages...</td>\n",
       "      <td>book first couple page know would enjoy read...</td>\n",
       "    </tr>\n",
       "    <tr>\n",
       "      <th>51998</th>\n",
       "      <td>I loved the loving care with which this book w...</td>\n",
       "      <td>love loving care book write horror Tuskegee ...</td>\n",
       "    </tr>\n",
       "    <tr>\n",
       "      <th>51999</th>\n",
       "      <td>During the 40 years of the Tuskegee Syphilis E...</td>\n",
       "      <td>year Tuskegee Syphilis Experiment school thr...</td>\n",
       "    </tr>\n",
       "  </tbody>\n",
       "</table>\n",
       "<p>52000 rows × 2 columns</p>\n",
       "</div>"
      ],
      "text/plain": [
       "                                              reviewText  \\\n",
       "0      Spiritually and mentally inspiring! A book tha...   \n",
       "1      This is one my must have books. It is a master...   \n",
       "2      This book provides a reflection that you can a...   \n",
       "3      I first read THE PROPHET in college back in th...   \n",
       "4      A timeless classic.  It is a very demanding an...   \n",
       "...                                                  ...   \n",
       "51995  Kolko does an excellent job of making the case...   \n",
       "51996  As an Alabama native and a Tuskegee res I like...   \n",
       "51997  I was into this book the first couple of pages...   \n",
       "51998  I loved the loving care with which this book w...   \n",
       "51999  During the 40 years of the Tuskegee Syphilis E...   \n",
       "\n",
       "                                                   Lemma  \n",
       "0        Spiritually mentally inspire book allow ques...  \n",
       "1        one must book masterpiece spirituality first...  \n",
       "2        book provide reflection apply life way try a...  \n",
       "3        first read PROPHET college back book revival...  \n",
       "4        timeless classic demanding assume title Gibr...  \n",
       "...                                                  ...  \n",
       "51995    Kolko excellent job make case business regul...  \n",
       "51996    Alabama native Tuskegee res like book still ...  \n",
       "51997    book first couple page know would enjoy read...  \n",
       "51998    love loving care book write horror Tuskegee ...  \n",
       "51999    year Tuskegee Syphilis Experiment school thr...  \n",
       "\n",
       "[52000 rows x 2 columns]"
      ]
     },
     "execution_count": 9,
     "metadata": {},
     "output_type": "execute_result"
    }
   ],
   "source": [
    "mydata[['reviewText', 'Lemma']]"
   ]
  },
  {
   "cell_type": "markdown",
   "metadata": {},
   "source": [
    "# Sentiment analysis using TextBlob"
   ]
  },
  {
   "cell_type": "code",
   "execution_count": 11,
   "metadata": {},
   "outputs": [
    {
     "name": "stdout",
     "output_type": "stream",
     "text": [
      "Collecting textblob\n",
      "  Downloading textblob-0.17.1-py2.py3-none-any.whl (636 kB)\n",
      "\u001b[K     |████████████████████████████████| 636 kB 3.1 MB/s eta 0:00:01\n",
      "\u001b[?25hRequirement already satisfied: nltk>=3.1 in /home/ananth/anaconda3/lib/python3.8/site-packages (from textblob) (3.6.5)\n",
      "Requirement already satisfied: click in /home/ananth/anaconda3/lib/python3.8/site-packages (from nltk>=3.1->textblob) (8.0.3)\n",
      "Requirement already satisfied: joblib in /home/ananth/anaconda3/lib/python3.8/site-packages (from nltk>=3.1->textblob) (1.1.0)\n",
      "Requirement already satisfied: regex>=2021.8.3 in /home/ananth/anaconda3/lib/python3.8/site-packages (from nltk>=3.1->textblob) (2021.8.3)\n",
      "Requirement already satisfied: tqdm in /home/ananth/anaconda3/lib/python3.8/site-packages (from nltk>=3.1->textblob) (4.62.3)\n",
      "Installing collected packages: textblob\n",
      "Successfully installed textblob-0.17.1\n"
     ]
    }
   ],
   "source": [
    "!pip3 install textblob"
   ]
  },
  {
   "cell_type": "code",
   "execution_count": 12,
   "metadata": {},
   "outputs": [],
   "source": [
    "from textblob import TextBlob\n",
    "\n",
    "# function to calculate subjectivity \n",
    "def getSubjectivity(review):\n",
    "    return TextBlob(review).sentiment.subjectivity\n",
    "\n",
    "# function to calculate polarity\n",
    "def getPolarity(review):\n",
    "    return TextBlob(review).sentiment.polarity\n",
    "\n",
    "# function to analyze the reviews\n",
    "def analysis(score):\n",
    "    if score < 0:\n",
    "        return 'Negative'\n",
    "    elif score == 0:\n",
    "        return 'Neutral'\n",
    "    else:\n",
    "        return 'Positive'"
   ]
  },
  {
   "cell_type": "code",
   "execution_count": 13,
   "metadata": {},
   "outputs": [],
   "source": [
    "fin_data = pd.DataFrame(mydata[['reviewText', 'Lemma']])"
   ]
  },
  {
   "cell_type": "code",
   "execution_count": 14,
   "metadata": {
    "scrolled": true
   },
   "outputs": [
    {
     "data": {
      "text/html": [
       "<div>\n",
       "<style scoped>\n",
       "    .dataframe tbody tr th:only-of-type {\n",
       "        vertical-align: middle;\n",
       "    }\n",
       "\n",
       "    .dataframe tbody tr th {\n",
       "        vertical-align: top;\n",
       "    }\n",
       "\n",
       "    .dataframe thead th {\n",
       "        text-align: right;\n",
       "    }\n",
       "</style>\n",
       "<table border=\"1\" class=\"dataframe\">\n",
       "  <thead>\n",
       "    <tr style=\"text-align: right;\">\n",
       "      <th></th>\n",
       "      <th>reviewText</th>\n",
       "      <th>Lemma</th>\n",
       "      <th>Polarity</th>\n",
       "      <th>Analysis</th>\n",
       "    </tr>\n",
       "  </thead>\n",
       "  <tbody>\n",
       "    <tr>\n",
       "      <th>0</th>\n",
       "      <td>Spiritually and mentally inspiring! A book tha...</td>\n",
       "      <td>Spiritually mentally inspire book allow ques...</td>\n",
       "      <td>0.033333</td>\n",
       "      <td>Positive</td>\n",
       "    </tr>\n",
       "    <tr>\n",
       "      <th>1</th>\n",
       "      <td>This is one my must have books. It is a master...</td>\n",
       "      <td>one must book masterpiece spirituality first...</td>\n",
       "      <td>0.090000</td>\n",
       "      <td>Positive</td>\n",
       "    </tr>\n",
       "    <tr>\n",
       "      <th>2</th>\n",
       "      <td>This book provides a reflection that you can a...</td>\n",
       "      <td>book provide reflection apply life way try a...</td>\n",
       "      <td>0.142857</td>\n",
       "      <td>Positive</td>\n",
       "    </tr>\n",
       "    <tr>\n",
       "      <th>3</th>\n",
       "      <td>I first read THE PROPHET in college back in th...</td>\n",
       "      <td>first read PROPHET college back book revival...</td>\n",
       "      <td>0.216667</td>\n",
       "      <td>Positive</td>\n",
       "    </tr>\n",
       "    <tr>\n",
       "      <th>4</th>\n",
       "      <td>A timeless classic.  It is a very demanding an...</td>\n",
       "      <td>timeless classic demanding assume title Gibr...</td>\n",
       "      <td>0.216193</td>\n",
       "      <td>Positive</td>\n",
       "    </tr>\n",
       "  </tbody>\n",
       "</table>\n",
       "</div>"
      ],
      "text/plain": [
       "                                          reviewText  \\\n",
       "0  Spiritually and mentally inspiring! A book tha...   \n",
       "1  This is one my must have books. It is a master...   \n",
       "2  This book provides a reflection that you can a...   \n",
       "3  I first read THE PROPHET in college back in th...   \n",
       "4  A timeless classic.  It is a very demanding an...   \n",
       "\n",
       "                                               Lemma  Polarity  Analysis  \n",
       "0    Spiritually mentally inspire book allow ques...  0.033333  Positive  \n",
       "1    one must book masterpiece spirituality first...  0.090000  Positive  \n",
       "2    book provide reflection apply life way try a...  0.142857  Positive  \n",
       "3    first read PROPHET college back book revival...  0.216667  Positive  \n",
       "4    timeless classic demanding assume title Gibr...  0.216193  Positive  "
      ]
     },
     "execution_count": 14,
     "metadata": {},
     "output_type": "execute_result"
    }
   ],
   "source": [
    "# fin_data['Subjectivity'] = fin_data['Lemma'].apply(getSubjectivity) \n",
    "fin_data['Polarity'] = fin_data['Lemma'].apply(getPolarity) \n",
    "fin_data['Analysis'] = fin_data['Polarity'].apply(analysis)\n",
    "fin_data.head()"
   ]
  },
  {
   "cell_type": "code",
   "execution_count": null,
   "metadata": {},
   "outputs": [],
   "source": [
    "positives=[]\n",
    "positives.append(fin_data['Lemma'](0))\n"
   ]
  },
  {
   "cell_type": "code",
   "execution_count": null,
   "metadata": {},
   "outputs": [],
   "source": []
  },
  {
   "cell_type": "code",
   "execution_count": 15,
   "metadata": {},
   "outputs": [
    {
     "data": {
      "text/plain": [
       "Positive    45378\n",
       "Negative     5678\n",
       "Neutral       944\n",
       "Name: Analysis, dtype: int64"
      ]
     },
     "execution_count": 15,
     "metadata": {},
     "output_type": "execute_result"
    }
   ],
   "source": [
    "tb_counts = fin_data.Analysis.value_counts()\n",
    "tb_counts"
   ]
  },
  {
   "cell_type": "code",
   "execution_count": 16,
   "metadata": {},
   "outputs": [
    {
     "data": {
      "text/plain": [
       "([<matplotlib.patches.Wedge at 0x7f72470703d0>,\n",
       "  <matplotlib.patches.Wedge at 0x7f7247070ac0>,\n",
       "  <matplotlib.patches.Wedge at 0x7f7246fa9190>],\n",
       " [Text(-1.0131372108787249, 0.42843084848418433, 'Positive'),\n",
       "  Text(0.987068936738482, -0.48548420584604285, 'Negative'),\n",
       "  Text(1.347805054116618, -0.07695151783883766, 'Neutral')],\n",
       " [Text(-0.5526202968429408, 0.23368955371864597, '87.3%'),\n",
       "  Text(0.5384012382209901, -0.26480956682511425, '10.9%'),\n",
       "  Text(0.848617997036389, -0.04845095567630519, '1.8%')])"
      ]
     },
     "execution_count": 16,
     "metadata": {},
     "output_type": "execute_result"
    },
    {
     "data": {
      "image/png": "[encoded data removed]",
      "text/plain": [
       "<Figure size 720x504 with 1 Axes>"
      ]
     },
     "metadata": {},
     "output_type": "display_data"
    }
   ],
   "source": [
    "import matplotlib.pyplot as plt\n",
    "%matplotlib inline\n",
    "\n",
    "tb_count= fin_data.Analysis.value_counts()\n",
    "plt.figure(figsize=(10, 7))\n",
    "plt.pie(tb_counts.values, labels = tb_counts.index, explode = (0, 0, 0.25), autopct='%1.1f%%', shadow=False)\n",
    "# plt.legend()"
   ]
  },
  {
   "cell_type": "markdown",
   "metadata": {},
   "source": [
    "# Sentiment analysis using VADER"
   ]
  },
  {
   "cell_type": "code",
   "execution_count": 19,
   "metadata": {},
   "outputs": [
    {
     "name": "stdout",
     "output_type": "stream",
     "text": [
      "Collecting vaderSentiment\n",
      "  Downloading vaderSentiment-3.3.2-py2.py3-none-any.whl (125 kB)\n",
      "\u001b[K     |████████████████████████████████| 125 kB 1.8 MB/s eta 0:00:01\n",
      "\u001b[?25hRequirement already satisfied: requests in /home/ananth/anaconda3/lib/python3.8/site-packages (from vaderSentiment) (2.26.0)\n",
      "Requirement already satisfied: charset-normalizer~=2.0.0 in /home/ananth/anaconda3/lib/python3.8/site-packages (from requests->vaderSentiment) (2.0.4)\n",
      "Requirement already satisfied: urllib3<1.27,>=1.21.1 in /home/ananth/anaconda3/lib/python3.8/site-packages (from requests->vaderSentiment) (1.26.7)\n",
      "Requirement already satisfied: certifi>=2017.4.17 in /home/ananth/anaconda3/lib/python3.8/site-packages (from requests->vaderSentiment) (2021.10.8)\n",
      "Requirement already satisfied: idna<4,>=2.5 in /home/ananth/anaconda3/lib/python3.8/site-packages (from requests->vaderSentiment) (3.3)\n",
      "Installing collected packages: vaderSentiment\n",
      "Successfully installed vaderSentiment-3.3.2\n"
     ]
    }
   ],
   "source": [
    "!pip3 install vaderSentiment"
   ]
  },
  {
   "cell_type": "code",
   "execution_count": 20,
   "metadata": {},
   "outputs": [],
   "source": [
    "from vaderSentiment.vaderSentiment import SentimentIntensityAnalyzer\n",
    "analyzer = SentimentIntensityAnalyzer()\n",
    "\n",
    "# function to calculate vader sentiment  \n",
    "def vadersentimentanalysis(review):\n",
    "    vs = analyzer.polarity_scores(review)\n",
    "    return vs['compound']\n",
    "\n",
    "fin_data['Vader Sentiment'] = fin_data['Lemma'].apply(vadersentimentanalysis)"
   ]
  },
  {
   "cell_type": "code",
   "execution_count": 21,
   "metadata": {},
   "outputs": [
    {
     "data": {
      "text/html": [
       "<div>\n",
       "<style scoped>\n",
       "    .dataframe tbody tr th:only-of-type {\n",
       "        vertical-align: middle;\n",
       "    }\n",
       "\n",
       "    .dataframe tbody tr th {\n",
       "        vertical-align: top;\n",
       "    }\n",
       "\n",
       "    .dataframe thead th {\n",
       "        text-align: right;\n",
       "    }\n",
       "</style>\n",
       "<table border=\"1\" class=\"dataframe\">\n",
       "  <thead>\n",
       "    <tr style=\"text-align: right;\">\n",
       "      <th></th>\n",
       "      <th>reviewText</th>\n",
       "      <th>Lemma</th>\n",
       "      <th>Polarity</th>\n",
       "      <th>Analysis</th>\n",
       "      <th>Vader Sentiment</th>\n",
       "      <th>Vader Analysis</th>\n",
       "    </tr>\n",
       "  </thead>\n",
       "  <tbody>\n",
       "    <tr>\n",
       "      <th>0</th>\n",
       "      <td>Spiritually and mentally inspiring! A book tha...</td>\n",
       "      <td>Spiritually mentally inspire book allow ques...</td>\n",
       "      <td>0.033333</td>\n",
       "      <td>Positive</td>\n",
       "      <td>0.8074</td>\n",
       "      <td>Positive</td>\n",
       "    </tr>\n",
       "    <tr>\n",
       "      <th>1</th>\n",
       "      <td>This is one my must have books. It is a master...</td>\n",
       "      <td>one must book masterpiece spirituality first...</td>\n",
       "      <td>0.090000</td>\n",
       "      <td>Positive</td>\n",
       "      <td>0.8271</td>\n",
       "      <td>Positive</td>\n",
       "    </tr>\n",
       "    <tr>\n",
       "      <th>2</th>\n",
       "      <td>This book provides a reflection that you can a...</td>\n",
       "      <td>book provide reflection apply life way try a...</td>\n",
       "      <td>0.142857</td>\n",
       "      <td>Positive</td>\n",
       "      <td>0.4404</td>\n",
       "      <td>Neutral</td>\n",
       "    </tr>\n",
       "    <tr>\n",
       "      <th>3</th>\n",
       "      <td>I first read THE PROPHET in college back in th...</td>\n",
       "      <td>first read PROPHET college back book revival...</td>\n",
       "      <td>0.216667</td>\n",
       "      <td>Positive</td>\n",
       "      <td>0.9413</td>\n",
       "      <td>Positive</td>\n",
       "    </tr>\n",
       "    <tr>\n",
       "      <th>4</th>\n",
       "      <td>A timeless classic.  It is a very demanding an...</td>\n",
       "      <td>timeless classic demanding assume title Gibr...</td>\n",
       "      <td>0.216193</td>\n",
       "      <td>Positive</td>\n",
       "      <td>0.9595</td>\n",
       "      <td>Positive</td>\n",
       "    </tr>\n",
       "  </tbody>\n",
       "</table>\n",
       "</div>"
      ],
      "text/plain": [
       "                                          reviewText  \\\n",
       "0  Spiritually and mentally inspiring! A book tha...   \n",
       "1  This is one my must have books. It is a master...   \n",
       "2  This book provides a reflection that you can a...   \n",
       "3  I first read THE PROPHET in college back in th...   \n",
       "4  A timeless classic.  It is a very demanding an...   \n",
       "\n",
       "                                               Lemma  Polarity  Analysis  \\\n",
       "0    Spiritually mentally inspire book allow ques...  0.033333  Positive   \n",
       "1    one must book masterpiece spirituality first...  0.090000  Positive   \n",
       "2    book provide reflection apply life way try a...  0.142857  Positive   \n",
       "3    first read PROPHET college back book revival...  0.216667  Positive   \n",
       "4    timeless classic demanding assume title Gibr...  0.216193  Positive   \n",
       "\n",
       "   Vader Sentiment Vader Analysis  \n",
       "0           0.8074       Positive  \n",
       "1           0.8271       Positive  \n",
       "2           0.4404        Neutral  \n",
       "3           0.9413       Positive  \n",
       "4           0.9595       Positive  "
      ]
     },
     "execution_count": 21,
     "metadata": {},
     "output_type": "execute_result"
    }
   ],
   "source": [
    "# function to analyse \n",
    "def vader_analysis(compound):\n",
    "    if compound >= 0.5:\n",
    "        return 'Positive'\n",
    "    elif compound <= -0.5 :\n",
    "        return 'Negative'\n",
    "    else:\n",
    "        return 'Neutral'\n",
    "    \n",
    "fin_data['Vader Analysis'] = fin_data['Vader Sentiment'].apply(vader_analysis)\n",
    "fin_data.head()"
   ]
  },
  {
   "cell_type": "code",
   "execution_count": 22,
   "metadata": {},
   "outputs": [
    {
     "data": {
      "text/plain": [
       "Positive    38393\n",
       "Neutral      8728\n",
       "Negative     4879\n",
       "Name: Vader Analysis, dtype: int64"
      ]
     },
     "execution_count": 22,
     "metadata": {},
     "output_type": "execute_result"
    }
   ],
   "source": [
    "vader_counts = fin_data['Vader Analysis'].value_counts()\n",
    "vader_counts"
   ]
  },
  {
   "cell_type": "code",
   "execution_count": 23,
   "metadata": {},
   "outputs": [
    {
     "data": {
      "text/plain": [
       "([<matplotlib.patches.Wedge at 0x7f7246c84a30>,\n",
       "  <matplotlib.patches.Wedge at 0x7f7246c71160>,\n",
       "  <matplotlib.patches.Wedge at 0x7f7246c717f0>],\n",
       " [Text(-0.8168472959189177, 0.8790679695848054, 'Positive'),\n",
       "  Text(0.4823807246681443, -0.9885893163840263, 'Neutral'),\n",
       "  Text(1.0525571464195604, -0.319567603991882, 'Negative')],\n",
       " [Text(-0.47649425595270195, 0.5127896489244698, '73.8%'),\n",
       "  Text(0.26311675890989683, -0.5392305362094688, '16.8%'),\n",
       "  Text(0.5741220798652147, -0.17430960217739017, '9.4%')])"
      ]
     },
     "execution_count": 23,
     "metadata": {},
     "output_type": "execute_result"
    },
    {
     "data": {
      "image/png": "[encoded data removed]",
      "text/plain": [
       "<Figure size 720x504 with 1 Axes>"
      ]
     },
     "metadata": {},
     "output_type": "display_data"
    }
   ],
   "source": [
    "vader_counts= fin_data['Vader Analysis'].value_counts()\n",
    "plt.figure(figsize=(10, 7))\n",
    "plt.pie(vader_counts.values, labels = vader_counts.index, explode = (0.1, 0, 0), autopct='%1.1f%%', shadow=False)\n",
    "# plt.legend()"
   ]
  },
  {
   "cell_type": "markdown",
   "metadata": {},
   "source": [
    "# Sentiment Analysis using SentiWordNet"
   ]
  },
  {
   "cell_type": "code",
   "execution_count": 24,
   "metadata": {},
   "outputs": [
    {
     "name": "stderr",
     "output_type": "stream",
     "text": [
      "[nltk_data] Downloading package sentiwordnet to\n",
      "[nltk_data]     /home/ananth/nltk_data...\n",
      "[nltk_data]   Unzipping corpora/sentiwordnet.zip.\n"
     ]
    },
    {
     "data": {
      "text/html": [
       "<div>\n",
       "<style scoped>\n",
       "    .dataframe tbody tr th:only-of-type {\n",
       "        vertical-align: middle;\n",
       "    }\n",
       "\n",
       "    .dataframe tbody tr th {\n",
       "        vertical-align: top;\n",
       "    }\n",
       "\n",
       "    .dataframe thead th {\n",
       "        text-align: right;\n",
       "    }\n",
       "</style>\n",
       "<table border=\"1\" class=\"dataframe\">\n",
       "  <thead>\n",
       "    <tr style=\"text-align: right;\">\n",
       "      <th></th>\n",
       "      <th>reviewText</th>\n",
       "      <th>Lemma</th>\n",
       "      <th>Polarity</th>\n",
       "      <th>Analysis</th>\n",
       "      <th>Vader Sentiment</th>\n",
       "      <th>Vader Analysis</th>\n",
       "      <th>SWN analysis</th>\n",
       "    </tr>\n",
       "  </thead>\n",
       "  <tbody>\n",
       "    <tr>\n",
       "      <th>0</th>\n",
       "      <td>Spiritually and mentally inspiring! A book tha...</td>\n",
       "      <td>Spiritually mentally inspire book allow ques...</td>\n",
       "      <td>0.033333</td>\n",
       "      <td>Positive</td>\n",
       "      <td>0.8074</td>\n",
       "      <td>Positive</td>\n",
       "      <td>Positive</td>\n",
       "    </tr>\n",
       "    <tr>\n",
       "      <th>1</th>\n",
       "      <td>This is one my must have books. It is a master...</td>\n",
       "      <td>one must book masterpiece spirituality first...</td>\n",
       "      <td>0.090000</td>\n",
       "      <td>Positive</td>\n",
       "      <td>0.8271</td>\n",
       "      <td>Positive</td>\n",
       "      <td>Positive</td>\n",
       "    </tr>\n",
       "    <tr>\n",
       "      <th>2</th>\n",
       "      <td>This book provides a reflection that you can a...</td>\n",
       "      <td>book provide reflection apply life way try a...</td>\n",
       "      <td>0.142857</td>\n",
       "      <td>Positive</td>\n",
       "      <td>0.4404</td>\n",
       "      <td>Neutral</td>\n",
       "      <td>Positive</td>\n",
       "    </tr>\n",
       "    <tr>\n",
       "      <th>3</th>\n",
       "      <td>I first read THE PROPHET in college back in th...</td>\n",
       "      <td>first read PROPHET college back book revival...</td>\n",
       "      <td>0.216667</td>\n",
       "      <td>Positive</td>\n",
       "      <td>0.9413</td>\n",
       "      <td>Positive</td>\n",
       "      <td>Positive</td>\n",
       "    </tr>\n",
       "    <tr>\n",
       "      <th>4</th>\n",
       "      <td>A timeless classic.  It is a very demanding an...</td>\n",
       "      <td>timeless classic demanding assume title Gibr...</td>\n",
       "      <td>0.216193</td>\n",
       "      <td>Positive</td>\n",
       "      <td>0.9595</td>\n",
       "      <td>Positive</td>\n",
       "      <td>Positive</td>\n",
       "    </tr>\n",
       "  </tbody>\n",
       "</table>\n",
       "</div>"
      ],
      "text/plain": [
       "                                          reviewText  \\\n",
       "0  Spiritually and mentally inspiring! A book tha...   \n",
       "1  This is one my must have books. It is a master...   \n",
       "2  This book provides a reflection that you can a...   \n",
       "3  I first read THE PROPHET in college back in th...   \n",
       "4  A timeless classic.  It is a very demanding an...   \n",
       "\n",
       "                                               Lemma  Polarity  Analysis  \\\n",
       "0    Spiritually mentally inspire book allow ques...  0.033333  Positive   \n",
       "1    one must book masterpiece spirituality first...  0.090000  Positive   \n",
       "2    book provide reflection apply life way try a...  0.142857  Positive   \n",
       "3    first read PROPHET college back book revival...  0.216667  Positive   \n",
       "4    timeless classic demanding assume title Gibr...  0.216193  Positive   \n",
       "\n",
       "   Vader Sentiment Vader Analysis SWN analysis  \n",
       "0           0.8074       Positive     Positive  \n",
       "1           0.8271       Positive     Positive  \n",
       "2           0.4404        Neutral     Positive  \n",
       "3           0.9413       Positive     Positive  \n",
       "4           0.9595       Positive     Positive  "
      ]
     },
     "execution_count": 24,
     "metadata": {},
     "output_type": "execute_result"
    }
   ],
   "source": [
    "nltk.download('sentiwordnet')\n",
    "from nltk.corpus import sentiwordnet as swn\n",
    "\n",
    "def sentiwordnetanalysis(pos_data):\n",
    "    sentiment = 0\n",
    "    tokens_count = 0\n",
    "    for word, pos in pos_data:\n",
    "        if not pos:\n",
    "            continue\n",
    "        lemma = wordnet_lemmatizer.lemmatize(word, pos=pos)\n",
    "        if not lemma:\n",
    "            continue\n",
    "        \n",
    "        synsets = wordnet.synsets(lemma, pos=pos)\n",
    "        if not synsets:\n",
    "            continue\n",
    "\n",
    "        # Take the first sense, the most common\n",
    "        synset = synsets[0]\n",
    "        swn_synset = swn.senti_synset(synset.name())\n",
    "        sentiment += swn_synset.pos_score() - swn_synset.neg_score()\n",
    "        tokens_count += 1\n",
    "        # print(swn_synset.pos_score(),swn_synset.neg_score(),swn_synset.obj_score())\n",
    "    if not tokens_count:\n",
    "        return 0\n",
    "    if sentiment>0:\n",
    "        return \"Positive\"\n",
    "    if sentiment==0:\n",
    "        return \"Neutral\"\n",
    "    else:\n",
    "        return \"Negative\"\n",
    "\n",
    "fin_data['SWN analysis'] = mydata['POS tagged'].apply(sentiwordnetanalysis)\n",
    "fin_data.head()"
   ]
  },
  {
   "cell_type": "code",
   "execution_count": 25,
   "metadata": {},
   "outputs": [
    {
     "data": {
      "text/plain": [
       "Positive    40647\n",
       "Negative     9871\n",
       "Neutral      1467\n",
       "0              15\n",
       "Name: SWN analysis, dtype: int64"
      ]
     },
     "execution_count": 25,
     "metadata": {},
     "output_type": "execute_result"
    }
   ],
   "source": [
    "swn_counts= fin_data['SWN analysis'].value_counts()\n",
    "swn_counts"
   ]
  },
  {
   "cell_type": "code",
   "execution_count": 29,
   "metadata": {},
   "outputs": [
    {
     "data": {
      "text/plain": [
       "([<matplotlib.patches.Wedge at 0x7f7239ac0fa0>,\n",
       "  <matplotlib.patches.Wedge at 0x7f7239ac6460>,\n",
       "  <matplotlib.patches.Wedge at 0x7f7239ac6fa0>,\n",
       "  <matplotlib.patches.Wedge at 0x7f7239ac8ac0>],\n",
       " [Text(-0.8512382544373757, 0.6967018258784814, 'Positive'),\n",
       "  Text(0.7855323487892335, -0.770025278160185, 'Negative'),\n",
       "  Text(1.0955042344536086, -0.0993502505996488, 'Neutral'),\n",
       "  Text(1.0999995482727711, -0.0009968950293662317, '0')],\n",
       " [Text(-0.4643117751476594, 0.3800191777518989, '78.2%'),\n",
       "  Text(0.4284721902486728, -0.42001378808737355, '19.0%'),\n",
       "  Text(0.5975477642474228, -0.05419104578162661, '2.8%'),\n",
       "  Text(0.5999997536033297, -0.0005437609251088536, '0.0%')])"
      ]
     },
     "execution_count": 29,
     "metadata": {},
     "output_type": "execute_result"
    },
    {
     "data": {
      "image/png": "[encoded data removed]",
      "text/plain": [
       "<Figure size 720x504 with 1 Axes>"
      ]
     },
     "metadata": {},
     "output_type": "display_data"
    }
   ],
   "source": [
    "swn_counts= fin_data['SWN analysis'].value_counts()\n",
    "plt.figure(figsize=(10, 7))\n",
    "plt.pie(swn_counts.values, labels = swn_counts.index, explode = None, autopct='%1.1f%%', shadow=False)\n",
    "# plt.legend()"
   ]
  },
  {
   "cell_type": "markdown",
   "metadata": {},
   "source": [
    "# Visual representation of TextBlob, VADER, SentiWordNet results"
   ]
  },
  {
   "cell_type": "code",
   "execution_count": 31,
   "metadata": {},
   "outputs": [
    {
     "data": {
      "text/plain": [
       "([<matplotlib.patches.Wedge at 0x7f72398fce50>,\n",
       "  <matplotlib.patches.Wedge at 0x7f723990a580>,\n",
       "  <matplotlib.patches.Wedge at 0x7f723990ac10>,\n",
       "  <matplotlib.patches.Wedge at 0x7f72399182e0>],\n",
       " [Text(-0.8512382544373757, 0.6967018258784814, 'Positive'),\n",
       "  Text(0.7855323487892335, -0.770025278160185, 'Negative'),\n",
       "  Text(1.0955042344536086, -0.0993502505996488, 'Neutral'),\n",
       "  Text(1.0999995482727711, -0.0009968950293662317, '0')],\n",
       " [Text(-0.4643117751476594, 0.3800191777518989, '78.2%'),\n",
       "  Text(0.4284721902486728, -0.42001378808737355, '19.0%'),\n",
       "  Text(0.5975477642474228, -0.05419104578162661, '2.8%'),\n",
       "  Text(0.5999997536033297, -0.0005437609251088536, '0.0%')])"
      ]
     },
     "execution_count": 31,
     "metadata": {},
     "output_type": "execute_result"
    },
    {
     "data": {
      "image/png": "[encoded data removed]",
      "text/plain": [
       "<Figure size 1080x504 with 3 Axes>"
      ]
     },
     "metadata": {},
     "output_type": "display_data"
    }
   ],
   "source": [
    "import matplotlib.pyplot as plt\n",
    "%matplotlib inline\n",
    "\n",
    "plt.figure(figsize=(15,7))\n",
    "plt.subplot(1,3,1)\n",
    "plt.title(\"TextBlob results\")\n",
    "plt.pie(tb_counts.values, labels = tb_counts.index, explode = (0, 0, 0.25), autopct='%1.1f%%', shadow=False)\n",
    "plt.subplot(1,3,2)\n",
    "plt.title(\"VADER results\")\n",
    "plt.pie(vader_counts.values, labels = vader_counts.index, explode = (0, 0, 0.25), autopct='%1.1f%%', shadow=False)\n",
    "plt.subplot(1,3,3)\n",
    "plt.title(\"SentiWordNet results\")\n",
    "plt.pie(swn_counts.values, labels = swn_counts.index, explode = None, autopct='%1.1f%%', shadow=False)"
   ]
  },
  {
   "cell_type": "code",
   "execution_count": null,
   "metadata": {},
   "outputs": [],
   "source": []
  }
 ],
 "metadata": {
  "kernelspec": {
   "display_name": "Python 3",
   "language": "python",
   "name": "python3"
  },
  "language_info": {
   "codemirror_mode": {
    "name": "ipython",
    "version": 3
   },
   "file_extension": ".py",
   "mimetype": "text/x-python",
   "name": "python",
   "nbconvert_exporter": "python",
   "pygments_lexer": "ipython3",
   "version": "3.9.5"
  }
 },
 "nbformat": 4,
 "nbformat_minor": 4
}
